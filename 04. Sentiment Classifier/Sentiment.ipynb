{
 "cells": [
  {
   "cell_type": "code",
   "execution_count": 1,
   "id": "00ef856c-84a2-48dd-be03-0eafd37e1abe",
   "metadata": {},
   "outputs": [],
   "source": [
    "import numpy as np\n",
    "import pandas as pd\n",
    "import seaborn as sn\n",
    "import matplotlib.pyplot as plt\n",
    "\n",
    "np.random.seed(1)\n",
    "\n",
    "from sklearn.feature_extraction.text import CountVectorizer, TfidfVectorizer\n",
    "from sklearn.linear_model import LogisticRegression\n",
    "from sklearn.metrics import roc_auc_score, f1_score, confusion_matrix\n",
    "from sklearn.model_selection import train_test_split"
   ]
  },
  {
   "cell_type": "code",
   "execution_count": 2,
   "id": "98dc33af-3353-4a48-b8f4-399c4c846975",
   "metadata": {},
   "outputs": [],
   "source": [
    "df_ = pd.read_csv('AirlineTweets.csv')"
   ]
  },
  {
   "cell_type": "code",
   "execution_count": 3,
   "id": "8605b30f-bdcb-4b45-a4fa-bdb7e0bdb0a3",
   "metadata": {},
   "outputs": [
    {
     "data": {
      "text/html": [
       "<div>\n",
       "<style scoped>\n",
       "    .dataframe tbody tr th:only-of-type {\n",
       "        vertical-align: middle;\n",
       "    }\n",
       "\n",
       "    .dataframe tbody tr th {\n",
       "        vertical-align: top;\n",
       "    }\n",
       "\n",
       "    .dataframe thead th {\n",
       "        text-align: right;\n",
       "    }\n",
       "</style>\n",
       "<table border=\"1\" class=\"dataframe\">\n",
       "  <thead>\n",
       "    <tr style=\"text-align: right;\">\n",
       "      <th></th>\n",
       "      <th>tweet_id</th>\n",
       "      <th>airline_sentiment</th>\n",
       "      <th>airline_sentiment_confidence</th>\n",
       "      <th>negativereason</th>\n",
       "      <th>negativereason_confidence</th>\n",
       "      <th>airline</th>\n",
       "      <th>airline_sentiment_gold</th>\n",
       "      <th>name</th>\n",
       "      <th>negativereason_gold</th>\n",
       "      <th>retweet_count</th>\n",
       "      <th>text</th>\n",
       "      <th>tweet_coord</th>\n",
       "      <th>tweet_created</th>\n",
       "      <th>tweet_location</th>\n",
       "      <th>user_timezone</th>\n",
       "    </tr>\n",
       "  </thead>\n",
       "  <tbody>\n",
       "    <tr>\n",
       "      <th>0</th>\n",
       "      <td>570306133677760513</td>\n",
       "      <td>neutral</td>\n",
       "      <td>1.0000</td>\n",
       "      <td>NaN</td>\n",
       "      <td>NaN</td>\n",
       "      <td>Virgin America</td>\n",
       "      <td>NaN</td>\n",
       "      <td>cairdin</td>\n",
       "      <td>NaN</td>\n",
       "      <td>0</td>\n",
       "      <td>@VirginAmerica What @dhepburn said.</td>\n",
       "      <td>NaN</td>\n",
       "      <td>2015-02-24 11:35:52 -0800</td>\n",
       "      <td>NaN</td>\n",
       "      <td>Eastern Time (US &amp; Canada)</td>\n",
       "    </tr>\n",
       "    <tr>\n",
       "      <th>1</th>\n",
       "      <td>570301130888122368</td>\n",
       "      <td>positive</td>\n",
       "      <td>0.3486</td>\n",
       "      <td>NaN</td>\n",
       "      <td>0.0000</td>\n",
       "      <td>Virgin America</td>\n",
       "      <td>NaN</td>\n",
       "      <td>jnardino</td>\n",
       "      <td>NaN</td>\n",
       "      <td>0</td>\n",
       "      <td>@VirginAmerica plus you've added commercials t...</td>\n",
       "      <td>NaN</td>\n",
       "      <td>2015-02-24 11:15:59 -0800</td>\n",
       "      <td>NaN</td>\n",
       "      <td>Pacific Time (US &amp; Canada)</td>\n",
       "    </tr>\n",
       "    <tr>\n",
       "      <th>2</th>\n",
       "      <td>570301083672813571</td>\n",
       "      <td>neutral</td>\n",
       "      <td>0.6837</td>\n",
       "      <td>NaN</td>\n",
       "      <td>NaN</td>\n",
       "      <td>Virgin America</td>\n",
       "      <td>NaN</td>\n",
       "      <td>yvonnalynn</td>\n",
       "      <td>NaN</td>\n",
       "      <td>0</td>\n",
       "      <td>@VirginAmerica I didn't today... Must mean I n...</td>\n",
       "      <td>NaN</td>\n",
       "      <td>2015-02-24 11:15:48 -0800</td>\n",
       "      <td>Lets Play</td>\n",
       "      <td>Central Time (US &amp; Canada)</td>\n",
       "    </tr>\n",
       "    <tr>\n",
       "      <th>3</th>\n",
       "      <td>570301031407624196</td>\n",
       "      <td>negative</td>\n",
       "      <td>1.0000</td>\n",
       "      <td>Bad Flight</td>\n",
       "      <td>0.7033</td>\n",
       "      <td>Virgin America</td>\n",
       "      <td>NaN</td>\n",
       "      <td>jnardino</td>\n",
       "      <td>NaN</td>\n",
       "      <td>0</td>\n",
       "      <td>@VirginAmerica it's really aggressive to blast...</td>\n",
       "      <td>NaN</td>\n",
       "      <td>2015-02-24 11:15:36 -0800</td>\n",
       "      <td>NaN</td>\n",
       "      <td>Pacific Time (US &amp; Canada)</td>\n",
       "    </tr>\n",
       "    <tr>\n",
       "      <th>4</th>\n",
       "      <td>570300817074462722</td>\n",
       "      <td>negative</td>\n",
       "      <td>1.0000</td>\n",
       "      <td>Can't Tell</td>\n",
       "      <td>1.0000</td>\n",
       "      <td>Virgin America</td>\n",
       "      <td>NaN</td>\n",
       "      <td>jnardino</td>\n",
       "      <td>NaN</td>\n",
       "      <td>0</td>\n",
       "      <td>@VirginAmerica and it's a really big bad thing...</td>\n",
       "      <td>NaN</td>\n",
       "      <td>2015-02-24 11:14:45 -0800</td>\n",
       "      <td>NaN</td>\n",
       "      <td>Pacific Time (US &amp; Canada)</td>\n",
       "    </tr>\n",
       "  </tbody>\n",
       "</table>\n",
       "</div>"
      ],
      "text/plain": [
       "             tweet_id airline_sentiment  airline_sentiment_confidence  \\\n",
       "0  570306133677760513           neutral                        1.0000   \n",
       "1  570301130888122368          positive                        0.3486   \n",
       "2  570301083672813571           neutral                        0.6837   \n",
       "3  570301031407624196          negative                        1.0000   \n",
       "4  570300817074462722          negative                        1.0000   \n",
       "\n",
       "  negativereason  negativereason_confidence         airline  \\\n",
       "0            NaN                        NaN  Virgin America   \n",
       "1            NaN                     0.0000  Virgin America   \n",
       "2            NaN                        NaN  Virgin America   \n",
       "3     Bad Flight                     0.7033  Virgin America   \n",
       "4     Can't Tell                     1.0000  Virgin America   \n",
       "\n",
       "  airline_sentiment_gold        name negativereason_gold  retweet_count  \\\n",
       "0                    NaN     cairdin                 NaN              0   \n",
       "1                    NaN    jnardino                 NaN              0   \n",
       "2                    NaN  yvonnalynn                 NaN              0   \n",
       "3                    NaN    jnardino                 NaN              0   \n",
       "4                    NaN    jnardino                 NaN              0   \n",
       "\n",
       "                                                text tweet_coord  \\\n",
       "0                @VirginAmerica What @dhepburn said.         NaN   \n",
       "1  @VirginAmerica plus you've added commercials t...         NaN   \n",
       "2  @VirginAmerica I didn't today... Must mean I n...         NaN   \n",
       "3  @VirginAmerica it's really aggressive to blast...         NaN   \n",
       "4  @VirginAmerica and it's a really big bad thing...         NaN   \n",
       "\n",
       "               tweet_created tweet_location               user_timezone  \n",
       "0  2015-02-24 11:35:52 -0800            NaN  Eastern Time (US & Canada)  \n",
       "1  2015-02-24 11:15:59 -0800            NaN  Pacific Time (US & Canada)  \n",
       "2  2015-02-24 11:15:48 -0800      Lets Play  Central Time (US & Canada)  \n",
       "3  2015-02-24 11:15:36 -0800            NaN  Pacific Time (US & Canada)  \n",
       "4  2015-02-24 11:14:45 -0800            NaN  Pacific Time (US & Canada)  "
      ]
     },
     "execution_count": 3,
     "metadata": {},
     "output_type": "execute_result"
    }
   ],
   "source": [
    "df_.head()"
   ]
  },
  {
   "cell_type": "code",
   "execution_count": 4,
   "id": "98e63a87-3444-47f8-9f8a-ffc70afb2420",
   "metadata": {},
   "outputs": [],
   "source": [
    "df = df_[['airline_sentiment', 'text']].copy()"
   ]
  },
  {
   "cell_type": "code",
   "execution_count": 5,
   "id": "e0e78d05-3747-4958-828b-f2f7dd4d83c9",
   "metadata": {},
   "outputs": [
    {
     "data": {
      "text/html": [
       "<div>\n",
       "<style scoped>\n",
       "    .dataframe tbody tr th:only-of-type {\n",
       "        vertical-align: middle;\n",
       "    }\n",
       "\n",
       "    .dataframe tbody tr th {\n",
       "        vertical-align: top;\n",
       "    }\n",
       "\n",
       "    .dataframe thead th {\n",
       "        text-align: right;\n",
       "    }\n",
       "</style>\n",
       "<table border=\"1\" class=\"dataframe\">\n",
       "  <thead>\n",
       "    <tr style=\"text-align: right;\">\n",
       "      <th></th>\n",
       "      <th>airline_sentiment</th>\n",
       "      <th>text</th>\n",
       "    </tr>\n",
       "  </thead>\n",
       "  <tbody>\n",
       "    <tr>\n",
       "      <th>0</th>\n",
       "      <td>neutral</td>\n",
       "      <td>@VirginAmerica What @dhepburn said.</td>\n",
       "    </tr>\n",
       "    <tr>\n",
       "      <th>1</th>\n",
       "      <td>positive</td>\n",
       "      <td>@VirginAmerica plus you've added commercials t...</td>\n",
       "    </tr>\n",
       "    <tr>\n",
       "      <th>2</th>\n",
       "      <td>neutral</td>\n",
       "      <td>@VirginAmerica I didn't today... Must mean I n...</td>\n",
       "    </tr>\n",
       "    <tr>\n",
       "      <th>3</th>\n",
       "      <td>negative</td>\n",
       "      <td>@VirginAmerica it's really aggressive to blast...</td>\n",
       "    </tr>\n",
       "    <tr>\n",
       "      <th>4</th>\n",
       "      <td>negative</td>\n",
       "      <td>@VirginAmerica and it's a really big bad thing...</td>\n",
       "    </tr>\n",
       "  </tbody>\n",
       "</table>\n",
       "</div>"
      ],
      "text/plain": [
       "  airline_sentiment                                               text\n",
       "0           neutral                @VirginAmerica What @dhepburn said.\n",
       "1          positive  @VirginAmerica plus you've added commercials t...\n",
       "2           neutral  @VirginAmerica I didn't today... Must mean I n...\n",
       "3          negative  @VirginAmerica it's really aggressive to blast...\n",
       "4          negative  @VirginAmerica and it's a really big bad thing..."
      ]
     },
     "execution_count": 5,
     "metadata": {},
     "output_type": "execute_result"
    }
   ],
   "source": [
    "df.head()"
   ]
  },
  {
   "cell_type": "code",
   "execution_count": 6,
   "id": "f1e0e756-79b6-4fe4-95d2-328df234a408",
   "metadata": {},
   "outputs": [
    {
     "data": {
      "text/plain": [
       "<Axes: >"
      ]
     },
     "execution_count": 6,
     "metadata": {},
     "output_type": "execute_result"
    },
    {
     "data": {
      "image/png": "[encoded data removed]",
      "text/plain": [
       "<Figure size 640x480 with 1 Axes>"
      ]
     },
     "metadata": {},
     "output_type": "display_data"
    }
   ],
   "source": [
    "df['airline_sentiment'].hist()"
   ]
  },
  {
   "cell_type": "code",
   "execution_count": 7,
   "id": "f0efd8fe-0f72-4fe2-949d-5c06b180b180",
   "metadata": {},
   "outputs": [],
   "source": [
    "target_map = {'positive' : 1, 'negative': 0, 'neutral': 2}\n",
    "df['target'] = df['airline_sentiment'].map(target_map)"
   ]
  },
  {
   "cell_type": "code",
   "execution_count": 8,
   "id": "beec3209-4bf9-470b-bd88-61de7f396d7f",
   "metadata": {},
   "outputs": [
    {
     "data": {
      "text/html": [
       "<div>\n",
       "<style scoped>\n",
       "    .dataframe tbody tr th:only-of-type {\n",
       "        vertical-align: middle;\n",
       "    }\n",
       "\n",
       "    .dataframe tbody tr th {\n",
       "        vertical-align: top;\n",
       "    }\n",
       "\n",
       "    .dataframe thead th {\n",
       "        text-align: right;\n",
       "    }\n",
       "</style>\n",
       "<table border=\"1\" class=\"dataframe\">\n",
       "  <thead>\n",
       "    <tr style=\"text-align: right;\">\n",
       "      <th></th>\n",
       "      <th>airline_sentiment</th>\n",
       "      <th>text</th>\n",
       "      <th>target</th>\n",
       "    </tr>\n",
       "  </thead>\n",
       "  <tbody>\n",
       "    <tr>\n",
       "      <th>0</th>\n",
       "      <td>neutral</td>\n",
       "      <td>@VirginAmerica What @dhepburn said.</td>\n",
       "      <td>2</td>\n",
       "    </tr>\n",
       "    <tr>\n",
       "      <th>1</th>\n",
       "      <td>positive</td>\n",
       "      <td>@VirginAmerica plus you've added commercials t...</td>\n",
       "      <td>1</td>\n",
       "    </tr>\n",
       "    <tr>\n",
       "      <th>2</th>\n",
       "      <td>neutral</td>\n",
       "      <td>@VirginAmerica I didn't today... Must mean I n...</td>\n",
       "      <td>2</td>\n",
       "    </tr>\n",
       "    <tr>\n",
       "      <th>3</th>\n",
       "      <td>negative</td>\n",
       "      <td>@VirginAmerica it's really aggressive to blast...</td>\n",
       "      <td>0</td>\n",
       "    </tr>\n",
       "    <tr>\n",
       "      <th>4</th>\n",
       "      <td>negative</td>\n",
       "      <td>@VirginAmerica and it's a really big bad thing...</td>\n",
       "      <td>0</td>\n",
       "    </tr>\n",
       "  </tbody>\n",
       "</table>\n",
       "</div>"
      ],
      "text/plain": [
       "  airline_sentiment                                               text  target\n",
       "0           neutral                @VirginAmerica What @dhepburn said.       2\n",
       "1          positive  @VirginAmerica plus you've added commercials t...       1\n",
       "2           neutral  @VirginAmerica I didn't today... Must mean I n...       2\n",
       "3          negative  @VirginAmerica it's really aggressive to blast...       0\n",
       "4          negative  @VirginAmerica and it's a really big bad thing...       0"
      ]
     },
     "execution_count": 8,
     "metadata": {},
     "output_type": "execute_result"
    }
   ],
   "source": [
    "df.head()"
   ]
  },
  {
   "cell_type": "code",
   "execution_count": 9,
   "id": "97b9207f-18d0-4d9e-818b-c3b6cd7ce112",
   "metadata": {},
   "outputs": [],
   "source": [
    "df_train, df_test = train_test_split(df)"
   ]
  },
  {
   "cell_type": "code",
   "execution_count": 10,
   "id": "ee1b790e-66a5-4516-991d-8a6f9d2e072b",
   "metadata": {},
   "outputs": [
    {
     "data": {
      "text/html": [
       "<div>\n",
       "<style scoped>\n",
       "    .dataframe tbody tr th:only-of-type {\n",
       "        vertical-align: middle;\n",
       "    }\n",
       "\n",
       "    .dataframe tbody tr th {\n",
       "        vertical-align: top;\n",
       "    }\n",
       "\n",
       "    .dataframe thead th {\n",
       "        text-align: right;\n",
       "    }\n",
       "</style>\n",
       "<table border=\"1\" class=\"dataframe\">\n",
       "  <thead>\n",
       "    <tr style=\"text-align: right;\">\n",
       "      <th></th>\n",
       "      <th>airline_sentiment</th>\n",
       "      <th>text</th>\n",
       "      <th>target</th>\n",
       "    </tr>\n",
       "  </thead>\n",
       "  <tbody>\n",
       "    <tr>\n",
       "      <th>1041</th>\n",
       "      <td>negative</td>\n",
       "      <td>@united Change made in just over 3 hours. For ...</td>\n",
       "      <td>0</td>\n",
       "    </tr>\n",
       "    <tr>\n",
       "      <th>1989</th>\n",
       "      <td>negative</td>\n",
       "      <td>@united The engineer that designed the 787 doo...</td>\n",
       "      <td>0</td>\n",
       "    </tr>\n",
       "    <tr>\n",
       "      <th>14309</th>\n",
       "      <td>negative</td>\n",
       "      <td>@AmericanAir 11 out of 11 delayed flights, you...</td>\n",
       "      <td>0</td>\n",
       "    </tr>\n",
       "    <tr>\n",
       "      <th>1711</th>\n",
       "      <td>negative</td>\n",
       "      <td>@united ouch not fair</td>\n",
       "      <td>0</td>\n",
       "    </tr>\n",
       "    <tr>\n",
       "      <th>11542</th>\n",
       "      <td>negative</td>\n",
       "      <td>@USAirways stuck in cae need reFlight Booking ...</td>\n",
       "      <td>0</td>\n",
       "    </tr>\n",
       "  </tbody>\n",
       "</table>\n",
       "</div>"
      ],
      "text/plain": [
       "      airline_sentiment                                               text  \\\n",
       "1041           negative  @united Change made in just over 3 hours. For ...   \n",
       "1989           negative  @united The engineer that designed the 787 doo...   \n",
       "14309          negative  @AmericanAir 11 out of 11 delayed flights, you...   \n",
       "1711           negative                              @united ouch not fair   \n",
       "11542          negative  @USAirways stuck in cae need reFlight Booking ...   \n",
       "\n",
       "       target  \n",
       "1041        0  \n",
       "1989        0  \n",
       "14309       0  \n",
       "1711        0  \n",
       "11542       0  "
      ]
     },
     "execution_count": 10,
     "metadata": {},
     "output_type": "execute_result"
    }
   ],
   "source": [
    "df_train.head()"
   ]
  },
  {
   "cell_type": "code",
   "execution_count": 11,
   "id": "2addd8c1-5c7a-4a50-a83a-afc6b172f30b",
   "metadata": {},
   "outputs": [],
   "source": [
    "vectorizer = TfidfVectorizer(max_features=2000)"
   ]
  },
  {
   "cell_type": "code",
   "execution_count": 12,
   "id": "14add256-da6d-43b9-9963-7cfd1166529a",
   "metadata": {},
   "outputs": [],
   "source": [
    "X_train = vectorizer.fit_transform(df_train['text'])"
   ]
  },
  {
   "cell_type": "code",
   "execution_count": 13,
   "id": "5182d53e-42a1-49f8-8e69-0da584110113",
   "metadata": {},
   "outputs": [
    {
     "data": {
      "text/plain": [
       "<10980x2000 sparse matrix of type '<class 'numpy.float64'>'\n",
       "\twith 157852 stored elements in Compressed Sparse Row format>"
      ]
     },
     "execution_count": 13,
     "metadata": {},
     "output_type": "execute_result"
    }
   ],
   "source": [
    "X_train"
   ]
  },
  {
   "cell_type": "code",
   "execution_count": 14,
   "id": "719ab61c-2ce4-47b1-97b2-d1340c0b552c",
   "metadata": {},
   "outputs": [],
   "source": [
    "X_test = vectorizer.transform(df_test['text'])"
   ]
  },
  {
   "cell_type": "code",
   "execution_count": 15,
   "id": "dfd63cdd-b79a-41a1-98a7-7700ea8f6d95",
   "metadata": {},
   "outputs": [],
   "source": [
    "Y_train = df_train['target']\n",
    "Y_test = df_test['target']"
   ]
  },
  {
   "cell_type": "code",
   "execution_count": 16,
   "id": "eb57bdfd-9838-46e8-8250-fc16f4be86a8",
   "metadata": {},
   "outputs": [
    {
     "name": "stdout",
     "output_type": "stream",
     "text": [
      "train acc: 0.8551001821493625\n",
      "test acc: 0.7978142076502732\n"
     ]
    }
   ],
   "source": [
    "model = LogisticRegression(max_iter=500)\n",
    "model.fit(X_train, Y_train)\n",
    "print('train acc:', model.score(X_train, Y_train))\n",
    "print('test acc:', model.score(X_test, Y_test))"
   ]
  },
  {
   "cell_type": "code",
   "execution_count": 17,
   "id": "8dae36d5-83ca-4574-a956-1771f28cc4ea",
   "metadata": {},
   "outputs": [
    {
     "name": "stdout",
     "output_type": "stream",
     "text": [
      "train auc: 0.9427155214535131\n",
      "test auc: 0.8953675693826142\n"
     ]
    }
   ],
   "source": [
    "Pr_train = model.predict_proba(X_train)\n",
    "Pr_test = model.predict_proba(X_test)\n",
    "print('train auc:', roc_auc_score(Y_train, Pr_train, multi_class='ovo'))\n",
    "print('test auc:', roc_auc_score(Y_test, Pr_test, multi_class='ovo'))"
   ]
  },
  {
   "cell_type": "code",
   "execution_count": 18,
   "id": "23a44aa3-4f94-4a50-a2b9-22f8ac701272",
   "metadata": {},
   "outputs": [],
   "source": [
    "P_train = model.predict(X_train)\n",
    "P_test = model.predict(X_test)"
   ]
  },
  {
   "cell_type": "code",
   "execution_count": 19,
   "id": "f3a808f3-1ff7-4c56-b2c6-465d2428752b",
   "metadata": {},
   "outputs": [
    {
     "data": {
      "text/plain": [
       "array([[0.96544214, 0.00827646, 0.0262814 ],\n",
       "       [0.20022624, 0.69852941, 0.10124434],\n",
       "       [0.30193548, 0.05075269, 0.64731183]])"
      ]
     },
     "execution_count": 19,
     "metadata": {},
     "output_type": "execute_result"
    }
   ],
   "source": [
    "cm = confusion_matrix(Y_train, P_train, normalize='true')\n",
    "cm"
   ]
  },
  {
   "cell_type": "code",
   "execution_count": 21,
   "id": "680b3b5c-57e0-4010-bd42-451cbb73d40a",
   "metadata": {},
   "outputs": [
    {
     "data": {
      "image/png": "[encoded data removed]",
      "text/plain": [
       "<Figure size 640x480 with 2 Axes>"
      ]
     },
     "metadata": {},
     "output_type": "display_data"
    }
   ],
   "source": [
    "def plot_cm(cm):\n",
    "    classes = ['negative' , 'positive', 'neutral']\n",
    "    df_cm = pd.DataFrame(cm, index=classes, columns=classes)\n",
    "    ax = sn.heatmap(df_cm, annot=True, fmt='g')\n",
    "    ax.set_xlabel('Predicted')\n",
    "    ax.set_ylabel('Target')\n",
    "plot_cm(cm)\n"
   ]
  },
  {
   "cell_type": "code",
   "execution_count": 22,
   "id": "982b7fb6-0963-4e98-afbb-8dfd352a4556",
   "metadata": {},
   "outputs": [
    {
     "data": {
      "image/png": "[encoded data removed]",
      "text/plain": [
       "<Figure size 640x480 with 2 Axes>"
      ]
     },
     "metadata": {},
     "output_type": "display_data"
    }
   ],
   "source": [
    "cm_test = confusion_matrix(Y_test, P_test, normalize='true')\n",
    "plot_cm(cm_test)"
   ]
  },
  {
   "cell_type": "markdown",
   "id": "691b7bef-0e2c-433e-b43a-2696af2f8420",
   "metadata": {},
   "source": [
    "### Binary Labels and Model Interpretation"
   ]
  },
  {
   "cell_type": "code",
   "execution_count": 23,
   "id": "258e2f78-d5d7-408e-937e-f6673633c1a1",
   "metadata": {},
   "outputs": [],
   "source": [
    "binary_target_list = [target_map['positive'], target_map['negative']]\n",
    "df_b_train = df_train[df_train['target'].isin(binary_target_list)]\n",
    "df_b_test = df_test[df_test['target'].isin(binary_target_list)]"
   ]
  },
  {
   "cell_type": "code",
   "execution_count": 24,
   "id": "d40451d5-aaf0-4d3c-a93f-0f4c2365edc7",
   "metadata": {},
   "outputs": [
    {
     "data": {
      "text/html": [
       "<div>\n",
       "<style scoped>\n",
       "    .dataframe tbody tr th:only-of-type {\n",
       "        vertical-align: middle;\n",
       "    }\n",
       "\n",
       "    .dataframe tbody tr th {\n",
       "        vertical-align: top;\n",
       "    }\n",
       "\n",
       "    .dataframe thead th {\n",
       "        text-align: right;\n",
       "    }\n",
       "</style>\n",
       "<table border=\"1\" class=\"dataframe\">\n",
       "  <thead>\n",
       "    <tr style=\"text-align: right;\">\n",
       "      <th></th>\n",
       "      <th>airline_sentiment</th>\n",
       "      <th>text</th>\n",
       "      <th>target</th>\n",
       "    </tr>\n",
       "  </thead>\n",
       "  <tbody>\n",
       "    <tr>\n",
       "      <th>1041</th>\n",
       "      <td>negative</td>\n",
       "      <td>@united Change made in just over 3 hours. For ...</td>\n",
       "      <td>0</td>\n",
       "    </tr>\n",
       "    <tr>\n",
       "      <th>1989</th>\n",
       "      <td>negative</td>\n",
       "      <td>@united The engineer that designed the 787 doo...</td>\n",
       "      <td>0</td>\n",
       "    </tr>\n",
       "    <tr>\n",
       "      <th>14309</th>\n",
       "      <td>negative</td>\n",
       "      <td>@AmericanAir 11 out of 11 delayed flights, you...</td>\n",
       "      <td>0</td>\n",
       "    </tr>\n",
       "    <tr>\n",
       "      <th>1711</th>\n",
       "      <td>negative</td>\n",
       "      <td>@united ouch not fair</td>\n",
       "      <td>0</td>\n",
       "    </tr>\n",
       "    <tr>\n",
       "      <th>11542</th>\n",
       "      <td>negative</td>\n",
       "      <td>@USAirways stuck in cae need reFlight Booking ...</td>\n",
       "      <td>0</td>\n",
       "    </tr>\n",
       "  </tbody>\n",
       "</table>\n",
       "</div>"
      ],
      "text/plain": [
       "      airline_sentiment                                               text  \\\n",
       "1041           negative  @united Change made in just over 3 hours. For ...   \n",
       "1989           negative  @united The engineer that designed the 787 doo...   \n",
       "14309          negative  @AmericanAir 11 out of 11 delayed flights, you...   \n",
       "1711           negative                              @united ouch not fair   \n",
       "11542          negative  @USAirways stuck in cae need reFlight Booking ...   \n",
       "\n",
       "       target  \n",
       "1041        0  \n",
       "1989        0  \n",
       "14309       0  \n",
       "1711        0  \n",
       "11542       0  "
      ]
     },
     "execution_count": 24,
     "metadata": {},
     "output_type": "execute_result"
    }
   ],
   "source": [
    "df_b_train.head()"
   ]
  },
  {
   "cell_type": "code",
   "execution_count": 25,
   "id": "6d2a329d-e584-44c0-a90b-fce860ebbc05",
   "metadata": {},
   "outputs": [],
   "source": [
    "X_train = vectorizer.fit_transform(df_b_train['text'])\n",
    "X_test = vectorizer.transform(df_b_test['text'])"
   ]
  },
  {
   "cell_type": "code",
   "execution_count": 26,
   "id": "70805549-c51c-4381-82f5-bccced79a042",
   "metadata": {},
   "outputs": [],
   "source": [
    "Y_train = df_b_train['target']\n",
    "Y_test = df_b_test['target']"
   ]
  },
  {
   "cell_type": "code",
   "execution_count": 27,
   "id": "e6a00e81-d60c-40d3-a4df-8515166ba5cd",
   "metadata": {},
   "outputs": [
    {
     "name": "stdout",
     "output_type": "stream",
     "text": [
      "train acc: 0.9298671288272675\n",
      "test acc: 0.9147609147609148\n"
     ]
    }
   ],
   "source": [
    "model = LogisticRegression(max_iter=500)\n",
    "model.fit(X_train, Y_train)\n",
    "print('train acc:', model.score(X_train, Y_train))\n",
    "print('test acc:', model.score(X_test, Y_test))"
   ]
  },
  {
   "cell_type": "code",
   "execution_count": 28,
   "id": "81092f68-0af3-4f92-aa74-6a9fe3f2141c",
   "metadata": {},
   "outputs": [
    {
     "name": "stdout",
     "output_type": "stream",
     "text": [
      "train auc: 0.9788753747469657\n",
      "test auc: 0.9532922029571322\n"
     ]
    }
   ],
   "source": [
    "Pr_train = model.predict_proba(X_train)[:,1]\n",
    "Pr_test = model.predict_proba(X_test)[:,1]\n",
    "print('train auc:', roc_auc_score(Y_train, Pr_train))\n",
    "print('test auc:', roc_auc_score(Y_test, Pr_test))"
   ]
  },
  {
   "cell_type": "code",
   "execution_count": 29,
   "id": "7d839874-2054-4721-994d-375c67660a5b",
   "metadata": {},
   "outputs": [
    {
     "data": {
      "text/plain": [
       "array([[-0.24922949, -0.13419416, -0.34668122, ...,  0.50929767,\n",
       "         0.00881348, -0.60292764]])"
      ]
     },
     "execution_count": 29,
     "metadata": {},
     "output_type": "execute_result"
    }
   ],
   "source": [
    "model.coef_"
   ]
  },
  {
   "cell_type": "code",
   "execution_count": 30,
   "id": "3eccc2f7-f891-4ac2-a675-ba3a61856e6a",
   "metadata": {},
   "outputs": [
    {
     "data": {
      "text/plain": [
       "(1, 2000)"
      ]
     },
     "execution_count": 30,
     "metadata": {},
     "output_type": "execute_result"
    }
   ],
   "source": [
    "model.coef_.shape"
   ]
  },
  {
   "cell_type": "code",
   "execution_count": 32,
   "id": "dbe10920-de60-4a10-adf5-39e90ed9f709",
   "metadata": {},
   "outputs": [
    {
     "data": {
      "image/png": "[encoded data removed]",
      "text/plain": [
       "<Figure size 640x480 with 1 Axes>"
      ]
     },
     "metadata": {},
     "output_type": "display_data"
    }
   ],
   "source": [
    "plt.hist(model.coef_[0], bins=30);"
   ]
  },
  {
   "cell_type": "code",
   "execution_count": 33,
   "id": "99aedc0c-ee55-441c-beb0-a1c328e682ed",
   "metadata": {},
   "outputs": [],
   "source": [
    "word_index_map = vectorizer.vocabulary_"
   ]
  },
  {
   "cell_type": "code",
   "execution_count": 41,
   "id": "ca6bda83-a612-4f2c-80d1-3ea52d8e2226",
   "metadata": {},
   "outputs": [
    {
     "data": {
      "text/plain": [
       "dict_items([('united', 1849), ('change', 338), ('made', 1087), ('in', 938), ('just', 989), ('over', 1271), ('hours', 903), ('for', 745), ('something', 1619), ('that', 1737), ('should', 1575), ('have', 851), ('taken', 1711), ('online', 1246), ('am', 139), ('not', 1213), ('loved', 1076), ('the', 1739), ('agent', 112), ('though', 1755), ('door', 568), ('to', 1775), ('half', 826), ('into', 964), ('plane', 1334), ('seat', 1535), ('be', 235), ('forced', 746), ('always', 138), ('sit', 1591), ('here', 873), ('americanair', 143), ('11', 6), ('out', 1266), ('of', 1227), ('delayed', 497), ('flights', 728), ('you', 1993), ('suck', 1682), ('and', 148), ('getting', 793), ('worse', 1971), ('fair', 670), ('usairways', 1868), ('stuck', 1677), ('need', 1191), ('reflight', 1438), ('booking', 270), ('problems', 1380), ('next', 1199), ('flight', 717), ('possibly', 1359), ('dm', 554), ('more', 1166), ('info', 951), ('southwestair', 1630), ('got', 810), ('help', 867), ('from', 765), ('nice', 1201), ('lady', 1007), ('on', 1241), ('phone', 1319), ('thank', 1734), ('refund', 1439), ('vouchers', 1892), ('or', 1255), ('another', 155), ('different', 532), ('airline', 120), ('at', 195), ('your', 1995), ('today', 1776), ('hour', 902), ('drive', 576), ('is', 966), ('very', 1883), ('inconvenient', 945), ('site', 1592), ('clearly', 373), ('we', 1914), ('are', 176), ('allowed', 129), ('carry', 320), ('this', 1751), ('was', 1902), ('pit', 1329), ('but', 294), ('bos', 271), ('how', 906), ('does', 557), ('make', 1093), ('sense', 1552), ('23', 28), ('great', 813), ('service', 1557), ('all', 126), ('several', 1561), ('cancelled', 307), ('flightlations', 724), ('come', 389), ('want', 1899), ('go', 801), ('home', 886), ('can', 306), ('miss', 1152), ('day', 483), ('work', 1962), ('my', 1181), ('situation', 1594), ('now', 1221), ('due', 581), ('company', 399), ('mistake', 1155), ('delay', 496), ('nothing', 1216), ('being', 243), ('so', 1610), ('up', 1856), ('point', 1349), ('saying', 1527), ('what', 1930), ('leaving', 1027), ('please', 1343), ('follow', 741), ('missing', 1154), ('bag', 224), ('mileageplus', 1138), ('page', 1279), ('broken', 283), ('understand', 1843), ('they', 1745), ('re', 1418), ('busy', 293), ('amp', 146), ('doing', 561), ('their', 1740), ('best', 246), ('frustration', 770), ('an', 147), ('automated', 207), ('call', 300), ('changing', 341), ('allowing', 130), ('me', 1109), ('talk', 1715), ('virginamerica', 1888), ('trying', 1816), ('advance', 103), ('24', 29), ('prior', 1375), ('tried', 1806), ('it', 971), ('earlier', 587), ('wanted', 1900), ('fees', 689), ('thx', 1762), ('apology', 169), ('fix', 711), ('system', 1706), ('would', 1975), ('better', 248), ('actually', 96), ('still', 1663), ('apparently', 171), ('ve', 1881), ('flown', 732), ('times', 1770), ('last', 1017), ('weeks', 1922), ('those', 1754), ('experiences', 652), ('were', 1927), ('disappointed', 540), ('birthday', 254), ('applied', 173), ('trip', 1807), ('booked', 269), ('days', 484), ('before', 240), ('received', 1433), ('email', 601), ('screwed', 1533), ('maybe', 1106), ('tell', 1726), ('everyone', 632), ('about', 79), ('airport', 123), ('tech', 1724), ('guys', 822), ('http', 911), ('co', 382), ('ok', 1237), ('may', 1105), ('keep', 990), ('25', 31), ('lose', 1068), ('with', 1951), ('no', 1204), ('longer', 1063), ('trust', 1814), ('bad', 221), ('way', 1912), ('handle', 828), ('yes', 1988), ('get', 791), ('act', 93), ('together', 1777), ('jetblue', 981), ('poorservice', 1356), ('10', 2), ('51', 59), ('bags', 226), ('frm', 764), ('our', 1265), ('fleet', 715), ('fleek', 714), ('fly', 735), ('anymore', 161), ('had', 823), ('good', 808), ('run', 1510), ('miami', 1132), ('rude', 1506), ('employee', 606), ('working', 1965), ('mia', 1131), ('lga', 1039), ('check', 352), ('she', 1568), ('experience', 650), ('think', 1748), ('having', 853), ('rough', 1498), ('moment', 1160), ('passenger', 1294), ('things', 1747), ('thanks', 1735), ('crew', 459), ('has', 846), ('been', 239), ('notified', 1219), ('moved', 1171), ('water', 1911), ('fixed', 712), ('tarmac', 1719), ('two', 1828), ('well', 1925), ('perhaps', 1310), ('could', 441), ('where', 1936), ('travel', 1796), ('between', 249), ('usa', 1866), ('only', 1247), ('nexus', 1200), ('worst', 1972), ('customer', 470), ('terrible', 1730), ('don', 565), ('care', 316), ('big', 251), ('storm', 1669), ('employees', 607), ('attitude', 203), ('haha', 825), ('same', 1519), ('lies', 1043), ('year', 1985), ('50', 57), ('flightled', 725), ('done', 566), ('hell', 865), ('right', 1491), ('after', 108), ('ll', 1055), ('do', 556), ('agents', 113), ('pleasant', 1342), ('less', 1032), ('than', 1733), ('sitting', 1593), ('waiting', 1895), ('deplane', 513), ('40', 50), ('minutes', 1149), ('level', 1038), ('expect', 647), ('omg', 1240), ('nonstop', 1208), ('dallas', 478), ('austin', 205), ('virgin', 1887), ('internet', 961), ('thing', 1746), ('will', 1945), ('respond', 1477), ('timely', 1769), ('going', 804), ('compensate', 401), ('whose', 1941), ('plans', 1339), ('ruined', 1507), ('because', 237), ('pending', 1306), ('flightlation', 723), ('love', 1075), ('hold', 883), ('why', 1942), ('switched', 1704), ('loyalty', 1080), ('programs', 1386), ('showing', 1580), ('twitter', 1827), ('sure', 1695), ('like', 1045), ('one', 1244), ('interview', 962), ('person', 1312), ('mean', 1111), ('first', 708), ('arriving', 183), ('destination', 520), ('hrs', 910), ('late', 1018), ('denied', 505), ('use', 1871), ('car', 314), ('confirm', 417), ('actual', 95), ('policy', 1353), ('when', 1934), ('husband', 919), ('travels', 1801), ('chicago', 358), ('he', 855), ('connecting', 423), ('aa', 77), ('joke', 986), ('line', 1047), ('isn', 967), ('even', 627), ('calls', 304), ('hang', 833), ('30', 38), ('runway', 1512), ('15', 12), ('far', 675), ('air', 117), ('its', 975), ('play', 1341), ('according', 88), ('every', 631), ('see', 1542), ('if', 927), ('take', 1710), ('money', 1163), ('without', 1953), ('notice', 1217), ('any', 160), ('other', 1262), ('industry', 948), ('issued', 969), ('weight', 1923), ('try', 1815), ('as', 184), ('many', 1101), ('new', 1196), ('easy', 594), ('power', 1362), ('laptop', 1014), ('iphone', 965), ('boat', 267), ('cup', 465), ('holder', 884), ('know', 1000), ('asking', 189), ('little', 1053), ('gate', 786), ('customers', 471), ('houston', 905), ('engine', 611), ('problem', 1379), ('mechanics', 1115), ('safety', 1517), ('file', 697), ('complaint', 404), ('laguardia', 1008), ('who', 1939), ('people', 1307), ('yesterday', 1989), ('resolve', 1474), ('issues', 970), ('which', 1937), ('concern', 411), ('disappointment', 542), ('disregard', 551), ('business', 292), ('select', 1547), ('pushing', 1401), ('sold', 1612), ('strand', 1672), ('phx', 1321), ('three', 1757), ('ahead', 116), ('live', 1054), ('premium', 1368), ('route', 1500), ('lhr', 1040), ('excited', 642), ('time', 1768), ('course', 449), ('say', 1526), ('then', 1742), ('offer', 1229), ('transfer', 1793), ('disconnect', 544), ('fll', 729), ('told', 1778), ('train', 1791), ('back', 220), ('pbi', 1303), ('there', 1743), ('absolute', 81), ('13', 8), ('maintenance', 1091), ('given', 796), ('family', 672), ('vacation', 1878), ('haven', 852), ('able', 78), ('anyone', 162), ('week', 1920), ('might', 1136), ('class', 368), ('states', 1656), ('says', 1528), ('res', 1467), ('already', 134), ('teach', 1722), ('them', 1741), ('bring', 280), ('leave', 1025), ('once', 1243), ('fee', 684), ('yay', 1982), ('book', 268), ('changes', 340), ('200', 23), ('considering', 427), ('currently', 468), ('gold', 805), ('delta', 503), ('jump', 988), ('sfo', 1563), ('weather', 1915), ('bc', 233), ('hopefully', 893), ('everything', 633), ('goes', 803), ('award', 212), ('ewr', 635), ('treated', 1803), ('priority', 1376), ('inconvenience', 944), ('really', 1425), ('hr', 909), ('food', 744), ('voucher', 1891), ('catch', 323), ('pm', 1348), ('vegas', 1882), ('double', 570), ('wrong', 1978), ('incompetence', 942), ('by', 297), ('feel', 686), ('free', 757), ('look', 1064), ('realize', 1424), ('peanuts', 1305), ('previous', 1371), ('worstairlineever', 1973), ('party', 1290), ('doesn', 558), ('assist', 193), ('flts', 734), ('cmh', 380), ('since', 1588), ('folks', 740), ('patient', 1300), ('thought', 1756), ('lines', 1048), ('kind', 998), ('unfortunately', 1845), ('improve', 937), ('merger', 1124), ('reason', 1426), ('boarding', 265), ('assignment', 192), ('seriously', 1555), ('speak', 1632), ('someone', 1618), ('immediately', 933), ('offered', 1230), ('hate', 849), ('following', 743), ('800', 72), ('baggage', 225), ('services', 1558), ('left', 1028), ('landed', 1011), ('couldn', 442), ('although', 137), ('long', 1062), ('appreciate', 174), ('prompt', 1390), ('response', 1480), ('date', 481), ('failing', 667), ('process', 1382), ('link', 1049), ('tsa', 1817), ('pre', 1365), ('oh', 1236), ('arrived', 182), ('ago', 114), ('stop', 1667), ('flying', 739), ('delays', 499), ('everytime', 634), ('paperwork', 1285), ('hung', 917), ('name', 1184), ('took', 1782), ('keeping', 991), ('20min', 25), ('rep', 1453), ('hey', 874), ('calling', 303), ('wait', 1893), ('past', 1297), ('anything', 163), ('ever', 630), ('much', 1177), ('asked', 188), ('full', 775), ('60', 62), ('old', 1239), ('mileage', 1137), ('plan', 1333), ('earn', 589), ('miles', 1139), ('ticket', 1763), ('prices', 1373), ('sunday', 1689), ('ny', 1224), ('real', 1423), ('17', 15), ('needs', 1193), ('treat', 1802), ('respect', 1476), ('hardly', 843), ('usairwaysfail', 1869), ('mobile', 1158), ('ground', 815), ('each', 586), ('expensive', 649), ('traveling', 1800), ('both', 273), ('flightr', 727), ('sleep', 1600), ('tonight', 1780), ('cant', 311), ('give', 795), ('group', 816), ('ua', 1831), ('charlotte', 348), ('nobody', 1205), ('staff', 1645), ('horrible', 896), ('communication', 396), ('emails', 603), ('2nd', 36), ('hasn', 847), ('said', 1518), ('neveragain', 1195), ('flt', 733), ('tells', 1728), ('wife', 1943), ('yr', 1996), ('aircanada', 118), ('yyz', 1998), ('customerservice', 472), ('dead', 488), ('seems', 1545), ('likely', 1046), ('place', 1331), ('didn', 527), ('extra', 657), ('until', 1855), ('tomorrow', 1779), ('myself', 1182), ('never', 1194), ('again', 110), ('messed', 1128), ('through', 1758), ('reservation', 1471), ('let', 1034), ('ridiculous', 1490), ('coming', 392), ('guess', 819), ('outlets', 1268), ('gonna', 807), ('us', 1865), ('forever', 748), ('card', 315), ('member', 1120), ('wonder', 1956), ('flightling', 726), ('complete', 406), ('show', 1578), ('bumped', 290), ('noon', 1209), ('433', 52), ('happens', 839), ('notification', 1218), ('lots', 1073), ('upset', 1863), ('freezing', 758), ('terminal', 1729), ('kept', 993), ('beyond', 250), ('pass', 1291), ('while', 1938), ('standing', 1649), ('board', 263), ('second', 1540), ('spent', 1638), ('find', 703), ('asap', 185), ('mins', 1146), ('afternoon', 109), ('web', 1916), ('tweeting', 1824), ('min', 1142), ('cs', 463), ('request', 1462), ('airways', 125), ('forward', 752), ('probably', 1378), ('taking', 1714), ('75', 68), ('fine', 705), ('police', 1351), ('win', 1947), ('saved', 1524), ('direct', 535), ('orlando', 1260), ('yo', 1991), ('ride', 1489), ('pilot', 1326), ('departure', 512), ('computer', 409), ('worked', 1963), ('bought', 275), ('own', 1277), ('rental', 1452), ('failed', 666), ('paid', 1280), ('awesome', 215), ('passengers', 1295), ('jfk', 983), ('team', 1723), ('share', 1566), ('needed', 1192), ('meeting', 1118), ('off', 1228), ('doors', 569), ('open', 1249), ('catering', 324), ('cool', 435), ('picture', 1324), ('most', 1168), ('horrendous', 895), ('planes', 1335), ('captain', 313), ('print', 1374), ('wtf', 1979), ('checking', 355), ('information', 952), ('numbers', 1223), ('number', 1222), ('did', 526), ('become', 238), ('black', 257), ('paris', 1287), ('nyc', 1225), ('losing', 1069), ('luggage', 1084), ('newark', 1197), ('rent', 1451), ('end', 609), ('stranded', 1673), ('these', 1744), ('common', 394), ('figure', 695), ('atl', 196), ('easier', 591), ('refunded', 1440), ('room', 1496), ('night', 1202), ('making', 1095), ('dia', 525), ('some', 1615), ('minor', 1145), ('too', 1781), ('apologies', 167), ('airlines', 121), ('frustrated', 768), ('wasted', 1906), ('equipment', 619), ('read', 1421), ('fail', 665), ('switch', 1703), ('gets', 792), ('disconnected', 545), ('companion', 398), ('hadn', 824), ('stopped', 1668), ('hotels', 900), ('truly', 1813), ('believe', 244), ('overhead', 1273), ('treatment', 1805), ('atrocious', 198), ('posted', 1361), ('watching', 1910), ('killing', 997), ('weekend', 1921), ('feedback', 685), ('basically', 231), ('fuck', 771), ('shopping', 1572), ('confirmation', 418), ('dca', 486), ('talking', 1717), ('sna', 1606), ('20', 22), ('went', 1926), ('18', 16), ('support', 1692), ('standby', 1648), ('status', 1657), ('shows', 1581), ('takeoff', 1712), ('depart', 507), ('certainly', 334), ('funny', 779), ('emailed', 602), ('found', 753), ('entire', 616), ('decent', 492), ('seats', 1538), ('wish', 1950), ('known', 1002), ('slept', 1602), ('friend', 761), ('lands', 1013), ('wifi', 1944), ('san', 1520), ('diego', 529), ('wasn', 1904), ('possible', 1358), ('conf', 415), ('sort', 1625), ('arrive', 181), ('instead', 956), ('tired', 1772), ('must', 1180), ('disaster', 543), ('missed', 1153), ('count', 444), ('soon', 1622), ('boarded', 264), ('1st', 21), ('started', 1653), ('american', 142), ('gave', 788), ('tickets', 1765), ('away', 214), ('fault', 681), ('lost', 1071), ('eat', 595), ('yet', 1990), ('unitedsucks', 1852), ('issue', 968), ('lack', 1006), ('announcement', 151), ('put', 1402), ('platinum', 1340), ('desk', 518), ('him', 878), ('based', 230), ('his', 880), ('seem', 1544), ('enough', 613), ('lol', 1060), ('btw', 287), ('speaking', 1633), ('month', 1164), ('shout', 1577), ('rock', 1494), ('pretty', 1369), ('rebooked', 1430), ('aren', 178), ('answering', 158), ('stay', 1658), ('warm', 1901), ('90', 75), ('connection', 424), ('supposed', 1694), ('discuss', 547), ('matter', 1103), ('badcustomerservice', 222), ('hundreds', 916), ('also', 135), ('southwest', 1629), ('incident', 940), ('sw', 1700), ('update', 1857), ('idea', 925), ('fortunemagazine', 751), ('cnn', 381), ('hoping', 894), ('answer', 156), ('okay', 1238), ('jan', 977), ('phoenix', 1318), ('least', 1024), ('daughter', 482), ('seated', 1536), ('near', 1189), ('upgrades', 1862), ('sent', 1553), ('nightmare', 1203), ('ugh', 1833), ('heart', 863), ('counting', 446), ('reservations', 1472), ('serious', 1554), ('wouldn', 1976), ('won', 1955), ('computers', 410), ('reply', 1456), ('assistance', 194), ('workers', 1964), ('cuz', 474), ('members', 1121), ('looking', 1066), ('heads', 859), ('takes', 1713), ('pathetic', 1298), ('mint', 1147), ('lax', 1020), ('pls', 1345), ('routes', 1501), ('las', 1016), ('aus', 204), ('filled', 700), ('claim', 365), ('hope', 891), ('main', 1089), ('cause', 325), ('totally', 1785), ('3am', 46), ('holding', 885), ('monday', 1162), ('ask', 187), ('poor', 1354), ('including', 941), ('flightations', 719), ('mexico', 1130), ('top', 1783), ('inflight', 950), ('speed', 1635), ('ended', 610), ('tv', 1822), ('ways', 1913), ('plus', 1346), ('iad', 920), ('swa', 1701), ('lot', 1072), ('purchase', 1398), ('details', 522), ('almost', 131), ('option', 1253), ('unacceptable', 1837), ('hi', 875), ('father', 680), ('wheelchair', 1933), ('dad', 476), ('further', 781), ('aircraft', 119), ('submitted', 1680), ('via', 1884), ('followed', 742), ('heard', 861), ('blaming', 260), ('word', 1960), ('attendants', 201), ('meal', 1110), ('happened', 837), ('huge', 913), ('frustrating', 769), ('cut', 473), ('dfw', 523), ('trueblue', 1812), ('points', 1350), ('within', 1952), ('cost', 438), ('set', 1560), ('attendant', 200), ('multiple', 1178), ('filed', 698), ('credit', 457), ('courtesy', 451), ('whole', 1940), ('phl', 1316), ('load', 1056), ('honor', 890), ('shocked', 1571), ('drinks', 575), ('checked', 353), ('available', 210), ('except', 640), ('middle', 1133), ('gone', 806), ('snow', 1609), ('flew', 716), ('final', 701), ('carrier', 318), ('gt', 817), ('appears', 172), ('confirmed', 419), ('flighted', 721), ('gotta', 811), ('pay', 1301), ('hotel', 899), ('giving', 798), ('rooms', 1497), ('happen', 836), ('flyers', 737), ('provide', 1392), ('such', 1681), ('space', 1631), ('drink', 574), ('global', 800), ('lounge', 1074), ('https', 912), ('ice', 922), ('visit', 1889), ('mother', 1169), ('reps', 1461), ('helpful', 869), ('friendly', 762), ('aware', 213), ('buy', 295), ('understaffing', 1842), ('mistakes', 1156), ('flyer', 736), ('pissed', 1328), ('777', 69), ('kudos', 1004), ('adding', 99), ('passbook', 1292), ('app', 170), ('cab', 298), ('wet', 1929), ('clothes', 376), ('bus', 291), ('bdl', 234), ('dc', 485), ('unitedairlines', 1850), ('appreciated', 175), ('quality', 1405), ('brother', 284), ('clt', 377), ('driving', 577), ('text', 1732), ('exactly', 637), ('35', 43), ('airplane', 122), ('bathroom', 232), ('items', 973), ('value', 1880), ('fi', 693), ('access', 86), ('19', 18), ('oscars', 1261), ('ones', 1245), ('expired', 653), ('drop', 578), ('avoid', 211), ('rescheduled', 1469), ('twice', 1826), ('return', 1485), ('gates', 787), ('clear', 372), ('jetway', 982), ('morning', 1167), ('months', 1165), ('ya', 1980), ('control', 434), ('unable', 1836), ('website', 1917), ('saturday', 1522), ('happy', 840), ('waited', 1894), ('mention', 1122), ('150', 13), ('six', 1595), ('training', 1792), ('tmrw', 1774), ('letting', 1037), ('down', 571), ('denver', 506), ('45', 53), ('arrival', 180), ('den', 504), ('ual', 1832), ('comes', 390), ('helping', 870), ('supervisor', 1691), ('her', 872), ('excellent', 639), ('provided', 1393), ('case', 321), ('id', 924), ('1hr', 19), ('msy', 1176), ('willing', 1946), ('came', 305), ('reschedule', 1468), ('snacks', 1608), ('28', 33), ('officially', 1234), ('game', 784), ('yeah', 1984), ('seen', 1546), ('god', 802), ('damn', 480), ('fucking', 773), ('till', 1767), ('makes', 1094), ('16', 14), ('evening', 628), ('starting', 1654), ('mr', 1173), ('life', 1044), ('ill', 929), ('honeymoon', 889), ('obviously', 1226), ('corporate', 436), ('patience', 1299), ('est', 623), ('sound', 1627), ('idiots', 926), ('sucks', 1683), ('transferred', 1794), ('layover', 1021), ('la', 1005), ('icing', 923), ('courteous', 450), ('unreal', 1854), ('office', 1233), ('close', 374), ('incredibly', 947), ('1k', 20), ('exit', 646), ('row', 1502), ('sign', 1584), ('gives', 797), ('tho', 1753), ('rt', 1505), ('responding', 1479), ('nope', 1210), ('whenever', 1935), ('promise', 1387), ('accurate', 91), ('responded', 1478), ('coffee', 386), ('perfect', 1309), ('charging', 347), ('domestic', 564), ('deplaned', 514), ('looks', 1067), ('running', 1511), ('hanging', 834), ('country', 447), ('contacting', 431), ('absurd', 83), ('spoke', 1640), ('pa', 1278), ('philly', 1315), ('social', 1611), ('media', 1116), ('start', 1652), ('destinationdragons', 521), ('boston', 272), ('36', 44), ('departing', 509), ('finding', 704), ('experienced', 651), ('chi', 357), ('intl', 963), ('crappy', 455), ('kidding', 995), ('high', 876), ('volume', 1890), ('deals', 491), ('dal', 477), ('39', 45), ('pick', 1322), ('above', 80), ('welcome', 1924), ('message', 1126), ('part', 1288), ('rebook', 1429), ('answers', 159), ('dropped', 579), ('3x', 49), ('contacted', 430), ('central', 331), ('suitcase', 1687), ('rules', 1509), ('especially', 622), ('lt', 1081), ('sad', 1513), ('important', 934), ('fare', 676), ('wanna', 1898), ('normal', 1212), ('planned', 1337), ('city', 364), ('palm', 1283), ('springs', 1643), ('consistent', 428), ('job', 985), ('transportation', 1795), ('sorry', 1624), ('upgrade', 1860), ('begin', 241), ('account', 89), ('goodwill', 809), ('00', 0), ('27', 32), ('000', 1), ('ceo', 332), ('public', 1395), ('embarrassing', 604), ('uh', 1834), ('price', 1372), ('called', 302), ('finish', 707), ('delivered', 501), ('airports', 124), ('glad', 799), ('dollar', 562), ('beautiful', 236), ('waste', 1905), ('faa', 661), ('deserves', 517), ('finally', 702), ('star', 1650), ('alliance', 127), ('short', 1573), ('amazing', 140), ('mind', 1143), ('mechanical', 1114), ('onboard', 1242), ('outbound', 1267), ('connections', 425), ('meetings', 1119), ('avail', 209), ('sky', 1598), ('ur', 1864), ('using', 1875), ('responses', 1481), ('during', 584), ('conditions', 414), ('else', 600), ('t5', 1708), ('queue', 1408), ('thursday', 1761), ('tweet', 1823), ('non', 1206), ('delaying', 498), ('jet', 980), ('blue', 261), ('congrats', 420), ('third', 1750), ('receipt', 1431), ('screen', 1531), ('tracking', 1789), ('cold', 387), ('guy', 821), ('view', 1886), ('front', 766), ('14', 10), ('question', 1406), ('apart', 166), ('helped', 868), ('hare', 844), ('incompetent', 943), ('ord', 1256), ('mon', 1161), ('annoyed', 153), ('12', 7), ('solution', 1613), ('whats', 1932), ('onto', 1248), ('offering', 1231), ('address', 101), ('4th', 56), ('updates', 1859), ('mine', 1144), ('complain', 403), ('form', 750), ('allow', 128), ('characters', 343), ('compassion', 400), ('disgusted', 549), ('reach', 1419), ('americanairlines', 144), ('error', 620), ('msg', 1174), ('none', 1207), ('drove', 580), ('charged', 345), ('seeing', 1543), ('higher', 877), ('unhappy', 1847), ('frozen', 767), ('acct', 90), ('48', 54), ('scheduled', 1530), ('shot', 1574), ('report', 1458), ('future', 782), ('iah', 921), ('nc', 1188), ('auto', 206), ('economy', 596), ('relations', 1449), ('center', 330), ('refunds', 1441), ('world', 1967), ('buf', 288), ('true', 1811), ('major', 1092), ('raise', 1411), ('bird', 253), ('listening', 1051), ('80', 71), ('lovely', 1077), ('ah', 115), ('shame', 1564), ('lie', 1041), ('hartford', 845), ('move', 1170), ('hangs', 835), ('heading', 858), ('ashamed', 186), ('wow', 1977), ('thinking', 1749), ('de', 487), ('announce', 150), ('coat', 384), ('choice', 361), ('continues', 433), ('rapid', 1414), ('reward', 1488), ('refuse', 1442), ('parents', 1286), ('tiny', 1771), ('kids', 996), ('charges', 346), ('100', 3), ('dealing', 490), ('policies', 1352), ('resolution', 1473), ('usair', 1867), ('phones', 1320), ('tag', 1709), ('rather', 1416), ('atlanta', 197), ('perks', 1311), ('feeling', 687), ('prob', 1377), ('worries', 1969), ('hands', 832), ('fast', 678), ('fun', 776), ('juan', 987), ('hot', 898), ('talked', 1716), ('friday', 760), ('pdx', 1304), ('picked', 1323), ('managed', 1098), ('didnt', 528), ('thru', 1760), ('costing', 439), ('cabin', 299), ('washington', 1903), ('head', 856), ('hassle', 848), ('responsibility', 1482), ('premier', 1367), ('closed', 375), ('upgraded', 1861), ('international', 960), ('watch', 1908), ('red', 1436), ('excuse', 643), ('fact', 664), ('turned', 1820), ('pilots', 1327), ('charge', 344), ('personal', 1313), ('completely', 407), ('contact', 429), ('explain', 654), ('acceptable', 85), ('delivery', 502), ('4am', 55), ('midnight', 1134), ('crazy', 456), ('handled', 829), ('rerouted', 1466), ('fabulous', 662), ('example', 638), ('cust', 469), ('rescheduling', 1470), ('shouldn', 1576), ('four', 754), ('honestly', 888), ('used', 1872), ('rate', 1415), ('record', 1435), ('caused', 326), ('around', 179), ('repair', 1454), ('profits', 1384), ('suit', 1686), ('ran', 1413), ('reaching', 1420), ('hard', 841), ('estimated', 624), ('moving', 1172), ('awful', 216), ('held', 864), ('cannot', 310), ('landing', 1012), ('mad', 1086), ('met', 1129), ('paying', 1302), ('130', 9), ('brand', 277), ('stressful', 1674), ('uncomfortable', 1840), ('unfriendlyskies', 1846), ('admirals', 102), ('club', 378), ('cash', 322), ('22', 27), ('ripoff', 1492), ('loving', 1078), ('fan', 673), ('turns', 1821), ('loyal', 1079), ('unhelpful', 1848), ('ppl', 1363), ('code', 385), ('reimbursed', 1446), ('hear', 860), ('treating', 1804), ('procedure', 1381), ('special', 1634), ('imaginedragons', 932), ('spiritairlines', 1639), ('lauderdale', 1019), ('under', 1841), ('errors', 621), ('hire', 879), ('mke', 1157), ('inside', 955), ('whatever', 1931), ('180', 17), ('worth', 1974), ('accommodate', 87), ('impressed', 936), ('2x', 37), ('solve', 1614), ('funeral', 778), ('learn', 1022), ('operations', 1251), ('overnight', 1274), ('mech', 1113), ('early', 588), ('cover', 452), ('story', 1670), ('total', 1784), ('single', 1589), ('piece', 1325), ('shit', 1569), ('step', 1660), ('notify', 1220), ('absolutely', 82), ('communicate', 395), ('replying', 1457), ('messages', 1127), ('originally', 1259), ('brought', 285), ('match', 1102), ('cheaper', 351), ('capt', 312), ('small', 1604), ('baby', 219), ('wonderful', 1957), ('etc', 626), ('works', 1966), ('worry', 1970), ('sending', 1551), ('letter', 1036), ('compensation', 402), ('area', 177), ('mdw', 1108), ('south', 1628), ('5hrs', 61), ('b4', 218), ('send', 1550), ('fuel', 774), ('add', 97), ('complaints', 405), ('five', 710), ('remember', 1450), ('million', 1141), ('options', 1254), ('straight', 1671), ('fight', 694), ('ticketed', 1764), ('difference', 531), ('sat', 1521), ('sun', 1688), ('systems', 1707), ('man', 1096), ('redeem', 1437), ('2day', 34), ('interesting', 959), ('turn', 1819), ('chairman', 335), ('preferred', 1366), ('assigned', 191), ('headed', 857), ('barely', 229), ('counter', 445), ('land', 1010), ('resolved', 1475), ('few', 692), ('alone', 132), ('nashville', 1186), ('flighting', 722), ('extremely', 658), ('sea', 1534), ('handling', 831), ('touch', 1786), ('thnx', 1752), ('imagine', 931), ('dragons', 572), ('feet', 690), ('nothappy', 1215), ('snack', 1607), ('refused', 1443), ('large', 1015), ('list', 1050), ('trips', 1808), ('int', 958), ('placed', 1332), ('original', 1258), ('yep', 1987), ('philadelphia', 1314), ('changed', 339), ('mco', 1107), ('flightation', 718), ('yall', 1981), ('disappointing', 541), ('checkin', 354), ('miserable', 1150), ('21', 26), ('furious', 780), ('tampa', 1718), ('skies', 1597), ('military', 1140), ('either', 598), ('minute', 1148), ('post', 1360), ('broke', 282), ('sharing', 1567), ('sleeping', 1601), ('shitty', 1570), ('literally', 1052), ('im', 930), ('8am', 73), ('bna', 262), ('current', 467), ('1000', 4), ('house', 904), ('continue', 432), ('lied', 1042), ('tweets', 1825), ('feels', 688), ('stinks', 1664), ('child', 359), ('girl', 794), ('somebody', 1616), ('unbelievable', 1839), ('raleigh', 1412), ('updated', 1858), ('advisory', 106), ('fl', 713), ('wont', 1959), ('cc', 328), ('served', 1556), ('gross', 814), ('survey', 1698), ('infant', 949), ('2hrs', 35), ('side', 1583), ('cheers', 356), ('window', 1948), ('alternate', 136), ('somehow', 1617), ('winter', 1949), ('operational', 1250), ('insult', 957), ('funds', 777), ('roc', 1493), ('mess', 1125), ('required', 1464), ('lets', 1035), ('telling', 1727), ('receive', 1432), ('stewardess', 1661), ('serving', 1559), ('dividend', 553), ('65', 64), ('hostage', 897), ('directly', 537), ('ready', 1422), ('chaos', 342), ('providing', 1394), ('knowing', 1001), ('ass', 190), ('informed', 953), ('disgusting', 550), ('son', 1621), ('easily', 592), ('complimentary', 408), ('promised', 1388), ('luck', 1082), ('human', 914), ('directtv', 538), ('dirty', 539), ('dont', 567), ('knew', 999), ('handlers', 830), ('throwing', 1759), ('causing', 327), ('news', 1198), ('america', 141), ('hawaii', 854), ('eventually', 629), ('slow', 1603), ('clue', 379), ('passes', 1296), ('puerto', 1396), ('exact', 636), ('purchased', 1399), ('attempt', 199), ('leg', 1029), ('fill', 699), ('bin', 252), ('unavailable', 1838), ('phlairport', 1317), ('gotten', 812), ('harder', 842), ('express', 656), ('bank', 228), ('ruining', 1508), ('wedding', 1918), ('rdu', 1417), ('cross', 461), ('3rd', 48), ('stt', 1676), ('frequent', 759), ('means', 1112), ('canned', 309), ('728', 67), ('leaves', 1026), ('plenty', 1344), ('type', 1830), ('overweight', 1275), ('returned', 1486), ('automatically', 208), ('fucked', 772), ('afford', 107), ('st', 1644), ('zero', 1999), ('requested', 1463), ('prevent', 1370), ('reimburse', 1445), ('actions', 94), ('incredible', 946), ('costumer', 440), ('bs', 286), ('rocks', 1495), ('years', 1986), ('consider', 426), ('140', 11), ('push', 1400), ('sweet', 1702), ('regarding', 1444), ('400', 51), ('order', 1257), ('anywhere', 165), ('2015', 24), ('learned', 1023), ('lesson', 1033), ('chat', 349), ('switching', 1705), ('age', 111), ('outstanding', 1270), ('curious', 466), ('cheap', 350), ('figured', 696), ('definitely', 495), ('announcements', 152), ('weren', 1928), ('safe', 1515), ('silver', 1585), ('deal', 489), ('hpn', 908), ('safely', 1516), ('answered', 157), ('usually', 1877), ('positive', 1357), ('note', 1214), ('rsw', 1504), ('manage', 1097), ('worried', 1968), ('directed', 536), ('dollars', 563), ('screw', 1532), ('quick', 1409), ('humans', 915), ('hello', 866), ('couldnt', 443), ('others', 1263), ('rows', 1503), ('behind', 242), ('round', 1499), ('additional', 100), ('east', 593), ('professional', 1383), ('accept', 84), ('slc', 1599), ('conference', 416), ('tough', 1787), ('matters', 1104), ('properly', 1391), ('smh', 1605), ('angry', 149), ('department', 510), ('damaged', 479), ('fantastic', 674), ('thankyou', 1736), ('couple', 448), ('advantage', 104), ('svc', 1699), ('children', 360), ('video', 1885), ('empty', 608), ('manager', 1100), ('dept', 515), ('faster', 679), ('nasty', 1187), ('legs', 1031), ('rest', 1483), ('jh', 984), ('dulles', 582), ('dulles_airport', 583), ('taxi', 1720), ('effort', 597), ('hit', 882), ('tuesday', 1818), ('despite', 519), ('misplaced', 1151), ('cleaned', 371), ('quickly', 1410), ('feb', 683), ('fa', 660), ('connected', 422), ('bwi', 296), ('nearly', 1190), ('existent', 645), ('eyes', 659), ('600', 63), ('however', 907), ('suggest', 1684), ('carriers', 319), ('located', 1058), ('enjoy', 612), ('correct', 437), ('suppose', 1693), ('deserve', 516), ('8pm', 74), ('plz', 1347), ('com', 388), ('crews', 460), ('overbooked', 1272), ('diff', 530), ('jax', 978), ('travelers', 1799), ('spoken', 1641), ('entertainment', 615), ('planning', 1338), ('ty', 1829), ('trouble', 1809), ('forcing', 747), ('across', 92), ('shameful', 1565), ('uk', 1835), ('often', 1235), ('questions', 1407), ('seattle', 1539), ('traffic', 1790), ('walk', 1896), ('msp', 1175), ('stole', 1665), ('pair', 1282), ('london', 1061), ('fingers', 706), ('crossed', 462), ('luv', 1085), ('friends', 763), ('program', 1385), ('management', 1099), ('dog', 560), ('fyi', 783), ('break', 278), ('kicked', 994), ('loaded', 1057), ('along', 133), ('face', 663), ('freaking', 756), ('cancun', 308), ('credits', 458), ('impossible', 935), ('coach', 383), ('sf', 1562), ('seating', 1537), ('tix', 1773), ('departs', 511), ('suggestions', 1685), ('tea', 1721), ('hence', 871), ('simply', 1587), ('understood', 1844), ('anyway', 164), ('guarantee', 818), ('sell', 1549), ('carousel', 317), ('spend', 1636), ('comp', 397), ('music', 1179), ('certain', 333), ('merge', 1123), ('buffalo', 289), ('unprofessional', 1853), ('traveled', 1797), ('lame', 1009), ('nah', 1183), ('useless', 1874), ('result', 1484), ('keeps', 992), ('wasting', 1907), ('comfortable', 391), ('diverted', 552), ('looked', 1065), ('floor', 730), ('decided', 493), ('mail', 1088), ('paper', 1284), ('truck', 1810), ('99', 76), ('aww', 217), ('belt', 245), ('sister', 1590), ('outside', 1269), ('ball', 227), ('enter', 614), ('sooner', 1623), ('dmed', 555), ('receiving', 1434), ('connect', 421), ('nor', 1211), ('saw', 1525), ('hungry', 918), ('flyfi', 738), ('representative', 1460), ('chance', 336), ('meet', 1117), ('york', 1992), ('tpa', 1788), ('sick', 1582), ('concerned', 412), ('concerns', 413), ('30min', 40), ('hand', 827), ('yup', 1997), ('replacement', 1455), ('reroute', 1465), ('crap', 454), ('super', 1690), ('dfwairport', 524), ('guitar', 820), ('amount', 145), ('elite', 599), ('clean', 370), ('florida', 731), ('thats', 1738), ('fit', 709), ('bother', 274), ('exchange', 641), ('wednesday', 1919), ('traveler', 1798), ('bit', 255), ('stupid', 1679), ('spending', 1637), ('fraud', 755), ('unitedfail', 1851), ('reasonable', 1427), ('promises', 1389), ('felt', 691), ('pull', 1397), ('32', 42), ('poorly', 1355), ('10pm', 5), ('owe', 1276), ('honest', 887), ('pittsburgh', 1330), ('hearing', 862), ('advise', 105), ('apologize', 168), ('words', 1961), ('500', 58), ('blame', 259), ('cities', 363), ('passed', 1293), ('forgot', 749), ('false', 671), ('sorted', 1626), ('spot', 1642), ('somewhere', 1620), ('opportunity', 1252), ('simple', 1586), ('difficult', 533), ('technical', 1725), ('ive', 976), ('dinner', 534), ('stuff', 1678), ('surprise', 1696), ('terry', 1731), ('security', 1541), ('gear', 789), ('generic', 790), ('expected', 648), ('chances', 337), ('young', 1994), ('showed', 1579), ('explanation', 655), ('staralliance', 1651), ('item', 972), ('jb', 979), ('deliver', 500), ('24hrs', 30), ('claimed', 366), ('choose', 362), ('per', 1308), ('claims', 367), ('pr', 1364), ('emergency', 605), ('30am', 39), ('logan', 1059), ('relate', 1448), ('flightd', 720), ('epicfail', 618), ('loss', 1070), ('schedule', 1529), ('hopeful', 892), ('cle', 369), ('til', 1766), ('putting', 1403), ('save', 1523), ('attention', 202), ('watched', 1909), ('reasons', 1428), ('sadly', 1514), ('stroller', 1675), ('70', 65), ('planet', 1336), ('inbound', 939), ('decision', 494), ('valid', 1879), ('doesnt', 559), ('annoying', 154), ('stellar', 1659), ('history', 881), ('biz', 256), ('mom', 1159), ('otherwise', 1264), ('badservice', 223), ('knows', 1003), ('happening', 838), ('walked', 1897), ('garbage', 785), ('pvd', 1404), ('usual', 1876), ('names', 1185), ('30pm', 41), ('earned', 590), ('stick', 1662), ('breakfast', 279), ('commercial', 393), ('boards', 266), ('reimbursement', 1447), ('dream', 573), ('exec', 644), ('added', 98), ('epic', 617), ('maint', 1090), ('55', 60), ('woman', 1954), ('painful', 1281), ('favorite', 682), ('700', 66), ('bringing', 281), ('partner', 1289), ('insane', 954), ('state', 1655), ('bet', 247), ('ignored', 928), ('legroom', 1030), ('useful', 1873), ('callback', 301), ('itinerary', 974), ('reported', 1459), ('disgrace', 548), ('stolen', 1666), ('cx', 475), ('failure', 669), ('departed', 508), ('returning', 1487), ('fails', 668), ('7am', 70), ('cell', 329), ('lucky', 1083), ('3hrs', 47), ('boyfriend', 276), ('wondering', 1958), ('surprised', 1697), ('eta', 625), ('self', 1548), ('disconnects', 546), ('sju', 1596), ('standard', 1647), ('offers', 1232), ('cowboycerrone', 453), ('fares', 677), ('csr', 464), ('blah', 258), ('dying', 585), ('yea', 1983), ('hou', 901), ('hates', 850), ('midway', 1135), ('usairwayssucks', 1870), ('stand', 1646)])"
      ]
     },
     "execution_count": 41,
     "metadata": {},
     "output_type": "execute_result"
    }
   ],
   "source": [
    "word_index_map.items()"
   ]
  },
  {
   "cell_type": "code",
   "execution_count": 42,
   "id": "7c390bc9-08a7-4d1b-b8d2-0a8606ca9061",
   "metadata": {},
   "outputs": [
    {
     "name": "stdout",
     "output_type": "stream",
     "text": [
      "Most positive words:\n",
      "southwestair 2.9036874181911556\n",
      "thank 8.09922551479395\n",
      "great 5.197515002318528\n",
      "best 3.615329096152718\n",
      "virginamerica 3.2486443545541444\n",
      "thx 2.8164212714726697\n",
      "jetblue 2.9658013858425636\n",
      "good 3.22799763397652\n",
      "thanks 8.22206025072253\n",
      "love 4.3869791709646515\n",
      "appreciate 2.9640990730187533\n",
      "awesome 4.07888420699412\n",
      "cool 2.142839237084984\n",
      "kudos 2.6562827235306745\n",
      "amazing 4.243634192708066\n",
      "worries 2.7418057143224037\n",
      "wonderful 2.1162782091627794\n"
     ]
    }
   ],
   "source": [
    "# let's look at the weights for each word\n",
    "# try it with different threshold values\n",
    "threshold = 2\n",
    "\n",
    "print('Most positive words:')\n",
    "for word, index in word_index_map.items():\n",
    "    weight = model.coef_[0][index]\n",
    "    if weight > threshold:\n",
    "        print(word, weight)"
   ]
  },
  {
   "cell_type": "code",
   "execution_count": 44,
   "id": "d5e58404-847a-462c-8094-c768ad62c7cb",
   "metadata": {},
   "outputs": [
    {
     "name": "stdout",
     "output_type": "stream",
     "text": [
      "Most negative words:\n",
      "hours -3.1763387533926792\n",
      "not -4.2078307486479725\n",
      "delayed -2.7198581042855863\n",
      "hour -2.060519567168622\n",
      "but -2.214461066789803\n",
      "cancelled -2.6628847487506344\n",
      "nothing -2.1118761839138025\n",
      "what -2.0074049422027698\n",
      "no -3.9384141989067\n",
      "worst -3.2120438023533855\n",
      "hold -2.7788325482919993\n",
      "why -2.214354810334347\n",
      "doesn -2.0250932721961528\n",
      "luggage -2.1903108180765165\n"
     ]
    }
   ],
   "source": [
    "print('Most negative words:')\n",
    "for word, index in word_index_map.items():\n",
    "    weight = model.coef_[0][index]\n",
    "    if weight < -threshold:\n",
    "        print(word, weight)"
   ]
  },
  {
   "cell_type": "code",
   "execution_count": null,
   "id": "b022d7f9-4051-43b0-bdbe-be184d8c9527",
   "metadata": {},
   "outputs": [],
   "source": []
  }
 ],
 "metadata": {
  "kernelspec": {
   "display_name": "Python 3 (ipykernel)",
   "language": "python",
   "name": "python3"
  },
  "language_info": {
   "codemirror_mode": {
    "name": "ipython",
    "version": 3
   },
   "file_extension": ".py",
   "mimetype": "text/x-python",
   "name": "python",
   "nbconvert_exporter": "python",
   "pygments_lexer": "ipython3",
   "version": "3.12.7"
  }
 },
 "nbformat": 4,
 "nbformat_minor": 5
}
