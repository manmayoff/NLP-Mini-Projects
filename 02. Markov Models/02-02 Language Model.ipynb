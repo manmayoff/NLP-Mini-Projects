{
 "cells": [
  {
   "cell_type": "code",
   "execution_count": 1,
   "id": "d00b0b11-4719-42e5-bcc4-4556c8597c88",
   "metadata": {},
   "outputs": [],
   "source": [
    "import numpy as np\n",
    "import string\n",
    "\n",
    "np.random.seed(1234)"
   ]
  },
  {
   "cell_type": "code",
   "execution_count": 2,
   "id": "8891851d-9c4f-4fc4-9cae-3374ea979026",
   "metadata": {},
   "outputs": [],
   "source": [
    "initial = {} # start of a phrase\n",
    "first_order = {} # second word only\n",
    "second_order = {}"
   ]
  },
  {
   "cell_type": "code",
   "execution_count": 3,
   "id": "4cad9f27-f530-44b8-ae61-886651d483dd",
   "metadata": {},
   "outputs": [],
   "source": [
    "def remove_punctuation(s):\n",
    "    return s.translate(str.maketrans('', '', string.punctuation))"
   ]
  },
  {
   "cell_type": "code",
   "execution_count": 4,
   "id": "ec69dd4f-a01d-42c6-bb94-a56cecda216a",
   "metadata": {},
   "outputs": [],
   "source": [
    "# we are first collectting all possible words that could follow a word or pair\n",
    "def add2dict(d, k, v):\n",
    "    if k not in d:\n",
    "        d[k] = []\n",
    "    d[k].append(v)"
   ]
  },
  {
   "cell_type": "code",
   "execution_count": 5,
   "id": "9044a9e3-6a09-4b0f-b602-9c8f703d12f6",
   "metadata": {},
   "outputs": [],
   "source": [
    "for line in open('assets/robert_frost.txt'):\n",
    "    tokens = remove_punctuation(line.rstrip().lower()).split()\n",
    "    T = len(tokens)\n",
    "    for i in range(T):\n",
    "        t = tokens[i]\n",
    "        if i == 0:\n",
    "            # measure the distribution of the first word\n",
    "            initial[t] = initial.get(t, 0) + 1\n",
    "        else:\n",
    "            t_1 = tokens[i-1]\n",
    "            if i == T - 1:\n",
    "                # measure probability of ending the line\n",
    "                add2dict(second_order, (t_1, t), 'END')\n",
    "\n",
    "            if i == 1:\n",
    "                # measure disctribution of second word\n",
    "                # given only first word\n",
    "                add2dict(first_order, t_1, t)\n",
    "            else:\n",
    "                t_2 = tokens[i-2]\n",
    "                add2dict(second_order, (t_2, t_1), t)\n",
    "                "
   ]
  },
  {
   "cell_type": "code",
   "execution_count": 6,
   "id": "7e1f35d8-7546-4a23-9100-fec2956406bd",
   "metadata": {},
   "outputs": [],
   "source": [
    "# normalize the distributions\n",
    "initial_total = sum(initial.values())\n",
    "for t, c in initial.items():\n",
    "    initial[t] = c / initial_total"
   ]
  },
  {
   "cell_type": "code",
   "execution_count": 7,
   "id": "b3f9f116-a0da-4795-b18b-0c91fb821f83",
   "metadata": {},
   "outputs": [],
   "source": [
    "# convert list of words to dictionary\n",
    "# ['cat', 'cat', 'dog'] to {cat : 0.2, dog: 0.1}\n",
    "\n",
    "def list2pdict(ts):\n",
    "    # turn each list of possibilities into a dictionary of probabilities\n",
    "    # ts = all samples\n",
    "    d = {}\n",
    "    n = len(ts)\n",
    "    for t in ts:\n",
    "        d[t] = d.get(t, 0.) + 1\n",
    "    for t, c in d.items():\n",
    "        d[t] = c / n\n",
    "    return d"
   ]
  },
  {
   "cell_type": "code",
   "execution_count": 8,
   "id": "dedac43a-9a40-4521-835c-987e29e46e5c",
   "metadata": {},
   "outputs": [],
   "source": [
    "for t_1, ts in first_order.items():\n",
    "    # replace list with dictionary of probabilities\n",
    "    first_order[t_1] = list2pdict(ts)"
   ]
  },
  {
   "cell_type": "code",
   "execution_count": 9,
   "id": "fe89255b-beaf-49a4-982b-2edd2e2f2309",
   "metadata": {},
   "outputs": [],
   "source": [
    "for k, ts in second_order.items():\n",
    "    second_order[k] = list2pdict(ts)"
   ]
  },
  {
   "cell_type": "code",
   "execution_count": 10,
   "id": "0b073c88-df6c-4b49-9f1e-ab8bead53adf",
   "metadata": {},
   "outputs": [],
   "source": [
    "def sample_word(d):\n",
    "    p0 = np.random.random()\n",
    "    cumulative = 0\n",
    "    for t, p in d.items():\n",
    "        cumulative += p\n",
    "        if p0 < cumulative:\n",
    "            return t\n",
    "    # if no word was sampled, return the last word as fallback\n",
    "    return list(d.keys())[-1]"
   ]
  },
  {
   "cell_type": "code",
   "execution_count": 14,
   "id": "10a66717-7c54-4e2e-99e4-aa8f2810b53c",
   "metadata": {},
   "outputs": [],
   "source": [
    "def generate():\n",
    "    for i in range(4): # generate 4 sentences\n",
    "        sentence = []\n",
    "\n",
    "        # initial word\n",
    "        w0 = sample_word(initial)\n",
    "        sentence.append(w0)\n",
    "        \n",
    "        # second word\n",
    "        w1 = sample_word(first_order[w0])\n",
    "        sentence.append(w1)\n",
    "\n",
    "        # second order transitions until end\n",
    "        while True:\n",
    "            w2 = sample_word(second_order[(w0, w1)])\n",
    "            if w2 == 'END':\n",
    "                break\n",
    "            sentence.append(w2)\n",
    "            w0 = w1\n",
    "            w1 = w2\n",
    "        print(' '.join(sentence))"
   ]
  },
  {
   "cell_type": "code",
   "execution_count": 15,
   "id": "0666d5ef-261f-42ca-84a7-3b9c3e758c8d",
   "metadata": {},
   "outputs": [
    {
     "name": "stdout",
     "output_type": "stream",
     "text": [
      "but it isnt as if and thats not all the money goes so fast\n",
      "you couldnt call it living for it aint\n",
      "one level higher than the earth\n",
      "she has her speel on every single lizard\n"
     ]
    }
   ],
   "source": [
    "generate()"
   ]
  },
  {
   "cell_type": "code",
   "execution_count": null,
   "id": "bbc10a6e-b394-4052-ba19-f5b389c342de",
   "metadata": {},
   "outputs": [],
   "source": []
  }
 ],
 "metadata": {
  "kernelspec": {
   "display_name": "Python 3 (ipykernel)",
   "language": "python",
   "name": "python3"
  },
  "language_info": {
   "codemirror_mode": {
    "name": "ipython",
    "version": 3
   },
   "file_extension": ".py",
   "mimetype": "text/x-python",
   "name": "python",
   "nbconvert_exporter": "python",
   "pygments_lexer": "ipython3",
   "version": "3.12.7"
  }
 },
 "nbformat": 4,
 "nbformat_minor": 5
}
