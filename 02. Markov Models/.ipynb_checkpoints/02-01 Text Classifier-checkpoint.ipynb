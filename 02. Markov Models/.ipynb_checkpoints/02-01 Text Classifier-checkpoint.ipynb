{
 "cells": [
  {
   "cell_type": "code",
   "execution_count": 1,
   "id": "d4b516d2-f654-4166-8b65-96b342f11a8f",
   "metadata": {},
   "outputs": [],
   "source": [
    "import numpy as np\n",
    "import matplotlib.pyplot as plt\n",
    "import string\n",
    "from sklearn.model_selection import train_test_split"
   ]
  },
  {
   "cell_type": "code",
   "execution_count": 2,
   "id": "509e03a5-343e-4a8d-a9a1-46809a90eb6e",
   "metadata": {},
   "outputs": [],
   "source": [
    "input_files = [\n",
    "    'assets/edgar_allan_poe.txt',\n",
    "    'assets/robert_frost.txt'\n",
    "]"
   ]
  },
  {
   "cell_type": "code",
   "execution_count": 3,
   "id": "880377b0-2eba-4732-8392-b90e685aabc6",
   "metadata": {},
   "outputs": [],
   "source": [
    "# each line is going to be treated as one data point"
   ]
  },
  {
   "cell_type": "code",
   "execution_count": 4,
   "id": "b2535d79-c732-42ed-8c92-0c5c465848ac",
   "metadata": {},
   "outputs": [
    {
     "name": "stdout",
     "output_type": "stream",
     "text": [
      "assets/edgar_allan_poe.txt correspnds to label 0\n",
      "assets/robert_frost.txt correspnds to label 1\n"
     ]
    }
   ],
   "source": [
    "# collect data into lists\n",
    "input_texts = []\n",
    "labels = []\n",
    "for label, f in enumerate(input_files):\n",
    "    print(f'{f} correspnds to label {label}')\n",
    "    for line in open(f):\n",
    "        line = line.rstrip().lower()\n",
    "        if line:\n",
    "            # remove punctuation\n",
    "            line = line.translate(str.maketrans('', '', string.punctuation))\n",
    "            input_texts.append(line)\n",
    "            labels.append(label)"
   ]
  },
  {
   "cell_type": "code",
   "execution_count": 5,
   "id": "2954d765-7b31-452b-95bb-95ab10b65024",
   "metadata": {},
   "outputs": [],
   "source": [
    "train_text, test_text, Ytrain, Ytest = train_test_split(input_texts, labels)"
   ]
  },
  {
   "cell_type": "code",
   "execution_count": 6,
   "id": "9c92c43f-86dd-43a9-93f6-4d6c16327b61",
   "metadata": {},
   "outputs": [
    {
     "data": {
      "text/plain": [
       "(1618, 540)"
      ]
     },
     "execution_count": 6,
     "metadata": {},
     "output_type": "execute_result"
    }
   ],
   "source": [
    "len(Ytrain), len(Ytest)"
   ]
  },
  {
   "cell_type": "code",
   "execution_count": 7,
   "id": "eaa23991-2d54-4730-958e-822f7b7ba279",
   "metadata": {},
   "outputs": [
    {
     "data": {
      "text/plain": [
       "['i struck the hand off brittle on the floor',\n",
       " 'call her nausicaa and take a timber',\n",
       " 'oh hasten oh let us not linger',\n",
       " 'they eddy over it too toppling weak',\n",
       " 'here he is now this box put it away']"
      ]
     },
     "execution_count": 7,
     "metadata": {},
     "output_type": "execute_result"
    }
   ],
   "source": [
    "train_text[:5]"
   ]
  },
  {
   "cell_type": "code",
   "execution_count": 8,
   "id": "6c5f5c4c-e9c9-465f-9dc8-7d21c9ec724f",
   "metadata": {},
   "outputs": [
    {
     "data": {
      "text/plain": [
       "[1, 1, 0, 1, 1]"
      ]
     },
     "execution_count": 8,
     "metadata": {},
     "output_type": "execute_result"
    }
   ],
   "source": [
    "Ytrain[:5]"
   ]
  },
  {
   "cell_type": "code",
   "execution_count": 9,
   "id": "8a1980c8-10d4-4309-a685-619e716a407a",
   "metadata": {},
   "outputs": [],
   "source": [
    "idx = 1\n",
    "word2idx = {'<unk>' : 0}"
   ]
  },
  {
   "cell_type": "code",
   "execution_count": 10,
   "id": "fc070d36-b845-4d41-a7b3-3ba63400da1e",
   "metadata": {},
   "outputs": [],
   "source": [
    "# populate word2idx\n",
    "for text in train_text:\n",
    "    tokens = text.split()\n",
    "    for token in tokens:\n",
    "        if token not in word2idx:\n",
    "            word2idx[token] = idx\n",
    "            idx += 1"
   ]
  },
  {
   "cell_type": "code",
   "execution_count": 11,
   "id": "aeadb390-8a2a-4f1c-96b8-71831217e435",
   "metadata": {},
   "outputs": [
    {
     "data": {
      "text/plain": [
       "2512"
      ]
     },
     "execution_count": 11,
     "metadata": {},
     "output_type": "execute_result"
    }
   ],
   "source": [
    "len(word2idx)"
   ]
  },
  {
   "cell_type": "code",
   "execution_count": 12,
   "id": "068d0c59-bde2-47af-bea0-8e27a6754a62",
   "metadata": {},
   "outputs": [],
   "source": [
    "# convert data into integer format\n",
    "train_text_int = []\n",
    "test_text_int = []\n",
    "for text in train_text:\n",
    "    tokens = text.split()\n",
    "    line_as_int = [ word2idx[token] for token in tokens ]\n",
    "    train_text_int.append(line_as_int)\n",
    "\n",
    "for text in test_text:\n",
    "    tokens = text.split()\n",
    "    line_as_int = [ word2idx.get(token, 0) for token in tokens ]\n",
    "    test_text_int.append(line_as_int)"
   ]
  },
  {
   "cell_type": "code",
   "execution_count": 13,
   "id": "d584af53-5bdd-415d-88ff-f1a165cfd75b",
   "metadata": {},
   "outputs": [
    {
     "data": {
      "text/plain": [
       "[[60, 110, 43, 296, 381, 382, 55, 12, 383],\n",
       " [12, 384, 97, 385, 43, 3, 386, 387],\n",
       " [388, 3, 200, 389, 183, 390, 391, 47, 93],\n",
       " [72, 392, 92, 393, 12, 394],\n",
       " [30, 395, 162, 396, 50, 3, 217, 22, 203]]"
      ]
     },
     "execution_count": 13,
     "metadata": {},
     "output_type": "execute_result"
    }
   ],
   "source": [
    "train_text_int[100:105]"
   ]
  },
  {
   "cell_type": "code",
   "execution_count": 18,
   "id": "cf3ab2ef-d485-42e8-ae91-186d3bf1273d",
   "metadata": {},
   "outputs": [],
   "source": [
    "# initialize A and pi\n",
    "# one for each category\n",
    "\n",
    "V = len(word2idx)\n",
    "\n",
    "A0 = np.ones((V, V))\n",
    "pi0 = np.ones(V)\n",
    "\n",
    "A1 = np.ones((V, V))\n",
    "pi1 = np.ones(V)"
   ]
  },
  {
   "cell_type": "code",
   "execution_count": 19,
   "id": "637e3712-ccd2-4076-ba55-cf21f288fec4",
   "metadata": {},
   "outputs": [],
   "source": [
    "# compute counts for A and pi\n",
    "def compute_counts(text_as_int, A, pi):\n",
    "    for tokens in text_as_int:\n",
    "        last_idx = None\n",
    "        for idx in tokens:\n",
    "            if last_idx is None:\n",
    "                # it's the first word in a sentence\n",
    "                pi[idx] += 1\n",
    "            else:\n",
    "                # it's a transition\n",
    "                A[last_idx, idx] += 1\n",
    "            # update last idx\n",
    "            last_idx = idx"
   ]
  },
  {
   "cell_type": "code",
   "execution_count": 20,
   "id": "805b6f20-b746-45e0-8fb5-6f126ac792f2",
   "metadata": {},
   "outputs": [],
   "source": [
    "compute_counts([ t for t, y in zip(train_text_int, Ytrain) if y == 0 ], A0, pi0)\n",
    "compute_counts([ t for t, y in zip(train_text_int, Ytrain) if y == 1 ], A1, pi1)"
   ]
  },
  {
   "cell_type": "code",
   "execution_count": 21,
   "id": "24f3b91a-9886-435c-bed7-ee6c923d12ff",
   "metadata": {},
   "outputs": [],
   "source": [
    "# normalizing A and pi to represent probabilities\n",
    "A0 /= A0.sum(axis=1, keepdims=True)\n",
    "pi0 /= pi0.sum()\n",
    "\n",
    "A1 /= A1.sum(axis=1, keepdims=True)\n",
    "pi1 /= pi1.sum()"
   ]
  },
  {
   "cell_type": "code",
   "execution_count": 22,
   "id": "f3dbfcb1-5b89-4b93-930e-db769ea2766d",
   "metadata": {},
   "outputs": [],
   "source": [
    "# log A and log pi\n",
    "logA0 = np.log(A0)\n",
    "logpi0 = np.log(pi0)\n",
    "\n",
    "logA1 = np.log(A1)\n",
    "logpi1 = np.log(pi1)"
   ]
  },
  {
   "cell_type": "code",
   "execution_count": 23,
   "id": "c86ebbfb-9e40-411c-815a-49c307ca6acf",
   "metadata": {},
   "outputs": [
    {
     "data": {
      "text/plain": [
       "(0.34239802224969096, 0.657601977750309)"
      ]
     },
     "execution_count": 23,
     "metadata": {},
     "output_type": "execute_result"
    }
   ],
   "source": [
    "# compute priors\n",
    "count0 = sum(y == 0 for y in Ytrain)\n",
    "count1 = sum(y == 1 for y in Ytrain)\n",
    "total = len(Ytrain)\n",
    "p0 = count0 / total\n",
    "p1 = count1 / total\n",
    "logp0 = np.log(p0)\n",
    "logp1 = np.log(p1)\n",
    "p0, p1"
   ]
  },
  {
   "cell_type": "code",
   "execution_count": 24,
   "id": "9e8ac862-ee4e-420e-8381-e6a17153587b",
   "metadata": {},
   "outputs": [],
   "source": [
    "# build a classifier\n",
    "class Classifier:\n",
    "    def __init__(self, logAs, logpis, logpriors):\n",
    "        self.logAs = logAs\n",
    "        self.logpis = logpis\n",
    "        self.logpriors = logpriors\n",
    "        self.K = len(logpriors) # number of class\n",
    "\n",
    "    def _compute_log_likelihood(self, input_, class_):\n",
    "        logA = self.logAs[class_]\n",
    "        logpi = self.logpis[class_]\n",
    "\n",
    "        last_idx = None\n",
    "        logprob = 0\n",
    "        for idx in input_:\n",
    "            if last_idx is None:\n",
    "                # it's the first token\n",
    "                logprob += logpi[idx]\n",
    "            else:\n",
    "                # it's a transition\n",
    "                logprob += logA[last_idx, idx]\n",
    "            last_idx = idx\n",
    "        return logprob\n",
    "\n",
    "    def predict(self, inputs):\n",
    "        predictions = np.zeros(len(inputs))\n",
    "        for i, input_ in enumerate(inputs):\n",
    "            posteriors = [ self._compute_log_likelihood(input_, c) + self.logpriors[c] \\\n",
    "                            for c in range(self.K) ]\n",
    "            pred = np.argmax(posteriors)\n",
    "            predictions[i] = pred\n",
    "        return predictions"
   ]
  },
  {
   "cell_type": "code",
   "execution_count": 26,
   "id": "4280822c-3692-439c-9890-39245ab0c4a5",
   "metadata": {},
   "outputs": [],
   "source": [
    "# each array must be in order since classes are assumed to index these lists\n",
    "clf = Classifier([logA0, logA1], [logpi0, logpi1], [logp0, logp1])"
   ]
  },
  {
   "cell_type": "code",
   "execution_count": 27,
   "id": "45fe3e49-034d-4e4f-aa76-0b75a3458644",
   "metadata": {},
   "outputs": [
    {
     "name": "stdout",
     "output_type": "stream",
     "text": [
      "Train acc: 0.9932014833127317\n"
     ]
    }
   ],
   "source": [
    "Ptrain = clf.predict(train_text_int)\n",
    "print(f'Train acc: {np.mean(Ptrain == Ytrain)}')"
   ]
  },
  {
   "cell_type": "code",
   "execution_count": 29,
   "id": "570387b4-fc55-4e31-8231-572b932cabad",
   "metadata": {},
   "outputs": [
    {
     "name": "stdout",
     "output_type": "stream",
     "text": [
      "Test acc: 0.8333333333333334\n"
     ]
    }
   ],
   "source": [
    "Ptest = clf.predict(test_text_int)\n",
    "print(f'Test acc: {np.mean(Ptest == Ytest)}')"
   ]
  },
  {
   "cell_type": "code",
   "execution_count": 30,
   "id": "6f336308-ffe7-4edf-8a72-7de7dbcf2250",
   "metadata": {},
   "outputs": [],
   "source": [
    "from sklearn.metrics import confusion_matrix, f1_score"
   ]
  },
  {
   "cell_type": "code",
   "execution_count": 31,
   "id": "aab458e4-8c01-4db2-af4d-abfd0622c21a",
   "metadata": {},
   "outputs": [
    {
     "data": {
      "text/plain": [
       "array([[ 90,  78],\n",
       "       [ 12, 360]], dtype=int64)"
      ]
     },
     "execution_count": 31,
     "metadata": {},
     "output_type": "execute_result"
    }
   ],
   "source": [
    "cm = confusion_matrix(Ytest, Ptest)\n",
    "cm"
   ]
  },
  {
   "cell_type": "code",
   "execution_count": 32,
   "id": "0c7c15dc-ae04-44c7-9f8b-0b3ffb5ba800",
   "metadata": {},
   "outputs": [
    {
     "data": {
      "text/plain": [
       "0.8888888888888888"
      ]
     },
     "execution_count": 32,
     "metadata": {},
     "output_type": "execute_result"
    }
   ],
   "source": [
    "f1_score(Ytest, Ptest)"
   ]
  },
  {
   "cell_type": "code",
   "execution_count": null,
   "id": "84160ccc-1914-4d60-98d1-b2fd52da9c23",
   "metadata": {},
   "outputs": [],
   "source": []
  }
 ],
 "metadata": {
  "kernelspec": {
   "display_name": "Python 3 (ipykernel)",
   "language": "python",
   "name": "python3"
  },
  "language_info": {
   "codemirror_mode": {
    "name": "ipython",
    "version": 3
   },
   "file_extension": ".py",
   "mimetype": "text/x-python",
   "name": "python",
   "nbconvert_exporter": "python",
   "pygments_lexer": "ipython3",
   "version": "3.12.7"
  }
 },
 "nbformat": 4,
 "nbformat_minor": 5
}
